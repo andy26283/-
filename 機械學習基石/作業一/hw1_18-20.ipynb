{
 "cells": [
  {
   "cell_type": "code",
   "execution_count": 1,
   "metadata": {},
   "outputs": [],
   "source": [
    "import numpy as np\n",
    "import pandas as pd"
   ]
  },
  {
   "cell_type": "code",
   "execution_count": 13,
   "metadata": {},
   "outputs": [],
   "source": [
    "def loadData(filename):\n",
    "    data = pd.read_csv(filename,sep='\\s+', header = None)\n",
    "    data = data.as_matrix()\n",
    "    col,row = data.shape\n",
    "    X = np.c_[np.ones((col, 1)), data[:, 0: row-1]]\n",
    "    Y = data[:, row-1:row]\n",
    "    return X, Y"
   ]
  },
  {
   "cell_type": "code",
   "execution_count": 14,
   "metadata": {},
   "outputs": [],
   "source": [
    "# Q18-20导入数据\n",
    "X, Y = loadData('hw1_18_train.dat')\n",
    "Xtest, Ytest = loadData('hw1_18_test.dat')\n",
    "col, row = X.shape\n",
    "theta = np.zeros((row, 1))"
   ]
  },
  {
   "cell_type": "code",
   "execution_count": 15,
   "metadata": {},
   "outputs": [],
   "source": [
    "# 在定义Pocket算法前，先引入错误率函数\n",
    "def mistake(yhat, y):\n",
    "    row, col = y.shape\n",
    "    return np.sum(yhat != y)/row"
   ]
  },
  {
   "cell_type": "code",
   "execution_count": 16,
   "metadata": {},
   "outputs": [],
   "source": [
    "# Pocket算法\n",
    "def pocket(X, Y, theta, iternum, eta = 1):\n",
    "    yhat = np.sign(X.dot(theta))\n",
    "    yhat[np.where(yhat == 0)] = -1\n",
    "    errold = mistake(yhat, Y)\n",
    "    thetabest = np.zeros(theta.shape)\n",
    "    for t in range(iternum):\n",
    "        index = np.where(yhat != Y)[0]\n",
    "        if not index.any():\n",
    "            break\n",
    "        pos = index[np.random.permutation(len(index))[0]]\n",
    "        theta += eta * Y[pos, 0] * X[pos:pos + 1, :].T\n",
    "        yhat = np.sign(X.dot(theta))\n",
    "        yhat[np.where(yhat == 0)] = -1\n",
    "        errnow = mistake(yhat, Y)\n",
    "        if errnow < errold:\n",
    "            thetabest = theta.copy() # 这一步切勿弄错，如果直接thetabest=theta则会使两者指向同一块空间\n",
    "            errold = errnow\n",
    "    return thetabest, theta"
   ]
  },
  {
   "cell_type": "code",
   "execution_count": 17,
   "metadata": {},
   "outputs": [
    {
     "name": "stdout",
     "output_type": "stream",
     "text": [
      "迭代次数为50时，theta_pocket情况下的测试集错误率： 0.13275199999999968\n"
     ]
    }
   ],
   "source": [
    "# Q18\n",
    "total = 0\n",
    "for i in range(2000):\n",
    "    theta = np.zeros((row, 1))\n",
    "    randpos = np.random.permutation(col)\n",
    "    Xrnd = X[randpos, :]\n",
    "    Yrnd = Y[randpos, 0:1]\n",
    "    theta, thetabad = pocket(Xrnd, Yrnd, theta, 50)\n",
    "    yhat = np.sign(Xtest.dot(theta))\n",
    "    yhat[np.where(yhat == 0)] = -1\n",
    "    err = mistake(yhat, Ytest)\n",
    "    total += err\n",
    "print('迭代次数为50时，theta_pocket情况下的测试集错误率：',total/2000)"
   ]
  },
  {
   "cell_type": "code",
   "execution_count": 18,
   "metadata": {},
   "outputs": [
    {
     "name": "stdout",
     "output_type": "stream",
     "text": [
      "迭代次数为50时，theta_50情况下的测试集错误率： 0.353607\n"
     ]
    }
   ],
   "source": [
    "# Q19\n",
    "total = 0\n",
    "for i in range(2000):\n",
    "    theta = np.zeros((row, 1))\n",
    "    randpos = np.random.permutation(col)\n",
    "    Xrnd = X[randpos, :]\n",
    "    Yrnd = Y[randpos, 0:1]\n",
    "    theta, thetabad = pocket(Xrnd, Yrnd, theta, 50)\n",
    "    yhat = np.sign(Xtest.dot(thetabad))\n",
    "    yhat[np.where(yhat == 0)] = -1\n",
    "    err = mistake(yhat, Ytest)\n",
    "    total += err\n",
    "print('迭代次数为50时，theta_50情况下的测试集错误率：',total/2000)"
   ]
  },
  {
   "cell_type": "code",
   "execution_count": 19,
   "metadata": {},
   "outputs": [
    {
     "name": "stdout",
     "output_type": "stream",
     "text": [
      "迭代次数为100时，theta_pocket情况下的测试集错误率： 0.11517500000000014\n"
     ]
    }
   ],
   "source": [
    "# Q20\n",
    "total = 0\n",
    "for i in range(2000):\n",
    "    theta = np.zeros((row, 1))\n",
    "    randpos = np.random.permutation(col)\n",
    "    Xrnd = X[randpos, :]\n",
    "    Yrnd = Y[randpos, 0:1]\n",
    "    theta, thetabad = pocket(Xrnd, Yrnd, theta, 100)\n",
    "    yhat = np.sign(Xtest.dot(theta))\n",
    "    yhat[np.where(yhat == 0)] = -1\n",
    "    err = mistake(yhat, Ytest)\n",
    "    total += err\n",
    "print('迭代次数为100时，theta_pocket情况下的测试集错误率：',total/2000)"
   ]
  }
 ],
 "metadata": {
  "kernelspec": {
   "display_name": "Python 3",
   "language": "python",
   "name": "python3"
  },
  "language_info": {
   "codemirror_mode": {
    "name": "ipython",
    "version": 3
   },
   "file_extension": ".py",
   "mimetype": "text/x-python",
   "name": "python",
   "nbconvert_exporter": "python",
   "pygments_lexer": "ipython3",
   "version": "3.6.4"
  }
 },
 "nbformat": 4,
 "nbformat_minor": 2
}
