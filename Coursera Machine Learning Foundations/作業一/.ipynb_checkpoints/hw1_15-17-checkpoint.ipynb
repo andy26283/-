{
 "cells": [
  {
   "cell_type": "code",
   "execution_count": 5,
   "metadata": {},
   "outputs": [],
   "source": [
    "import numpy as np\n",
    "import pandas as pd"
   ]
  },
  {
   "cell_type": "code",
   "execution_count": 8,
   "metadata": {},
   "outputs": [],
   "source": [
    "def loadData(filename):\n",
    "    data = pd.read_csv(filename,sep='\\s+', header = None)\n",
    "    data = data.as_matrix()\n",
    "    col,row = data.shape\n",
    "    X = np.c_[np.ones((col, 1)), data[:, 0: row-1]]\n",
    "    Y = data[:, row-1:row]\n",
    "    return X, Y"
   ]
  },
  {
   "cell_type": "code",
   "execution_count": 18,
   "metadata": {},
   "outputs": [
    {
     "name": "stdout",
     "output_type": "stream",
     "text": [
      "X的前五项：\n",
      " [[1.       0.97681  0.10723  0.64385  0.29556 ]\n",
      " [1.       0.67194  0.2418   0.83075  0.42741 ]\n",
      " [1.       0.20619  0.23321  0.81004  0.98691 ]\n",
      " [1.       0.51583  0.055814 0.92274  0.75797 ]\n",
      " [1.       0.70893  0.10836  0.33951  0.77058 ]]\n",
      "Y的前五项: \n",
      " [[1. 1. 1. 1. 1.]]\n"
     ]
    }
   ],
   "source": [
    "# Q15-Q17导入数据项\n",
    "X, Y = loaddata('hw1_15_train.dat')\n",
    "col, row = X.shape\n",
    "theta = np.zeros((row, 1))\n",
    "print('X的前五项：\\n',X[0:5, :])\n",
    "print('Y的前五项: \\n',Y[0:5,:].T)"
   ]
  },
  {
   "cell_type": "code",
   "execution_count": 19,
   "metadata": {},
   "outputs": [],
   "source": [
    "# 感知机算法\n",
    "# 下述实现需注意：加入了一个prevpos变量，为了保证每次都先从当前数据的后面数据中寻找错误项\n",
    "#（这样的方式相比每次均从第一个数据开始寻找要更快速）\n",
    "def perceptron(X, Y, theta, eta=1):\n",
    "    num = 0; prevpos = 0\n",
    "    while(True):\n",
    "        yhat = np.sign(X.dot(theta))\n",
    "        yhat[np.where(yhat == 0)] = -1\n",
    "        index = np.where(yhat != Y)[0]\n",
    "        if not index.any():\n",
    "            break\n",
    "        if not index[index >= prevpos].any():\n",
    "            prevpos = 0\n",
    "        pos = index[index >= prevpos][0]\n",
    "        prevpos = pos\n",
    "        theta += eta*Y[pos, 0]*X[pos:pos+1, :].T\n",
    "        num += 1\n",
    "    return theta, num"
   ]
  },
  {
   "cell_type": "code",
   "execution_count": 20,
   "metadata": {},
   "outputs": [
    {
     "name": "stdout",
     "output_type": "stream",
     "text": [
      "总共更新theta的次数： 39\n"
     ]
    }
   ],
   "source": [
    "# Q15的结果\n",
    "theta, num = perceptron(X, Y, theta)\n",
    "print('总共更新theta的次数：',num)"
   ]
  },
  {
   "cell_type": "code",
   "execution_count": 21,
   "metadata": {},
   "outputs": [
    {
     "name": "stdout",
     "output_type": "stream",
     "text": [
      "2000次平均每次更新theta的次数： 39.278\n"
     ]
    }
   ],
   "source": [
    "# Q16的结果\n",
    "total = 0\n",
    "for i in range(2000):\n",
    "    theta = np.zeros((row, 1))\n",
    "    randpos = np.random.permutation(col)\n",
    "    Xrnd = X[randpos, :]\n",
    "    Yrnd = Y[randpos, 0:1]\n",
    "    _, num = perceptron(Xrnd, Yrnd, theta)\n",
    "    total += num\n",
    "print('2000次平均每次更新theta的次数：',total/2000)"
   ]
  },
  {
   "cell_type": "code",
   "execution_count": 22,
   "metadata": {},
   "outputs": [
    {
     "name": "stdout",
     "output_type": "stream",
     "text": [
      "2000次平均每次更新theta的次数： 40.299\n"
     ]
    }
   ],
   "source": [
    "# Q17的结果\n",
    "total = 0\n",
    "for i in range(2000):\n",
    "    theta = np.zeros((row, 1))\n",
    "    randpos = np.random.permutation(col)\n",
    "    Xrnd = X[randpos, :]\n",
    "    Yrnd = Y[randpos, 0:1]\n",
    "    _, num = perceptron(Xrnd, Yrnd, theta, 0.5)\n",
    "    total += num\n",
    "print('2000次平均每次更新theta的次数：',total/2000)"
   ]
  }
 ],
 "metadata": {
  "kernelspec": {
   "display_name": "Python 3",
   "language": "python",
   "name": "python3"
  },
  "language_info": {
   "codemirror_mode": {
    "name": "ipython",
    "version": 3
   },
   "file_extension": ".py",
   "mimetype": "text/x-python",
   "name": "python",
   "nbconvert_exporter": "python",
   "pygments_lexer": "ipython3",
   "version": "3.6.4"
  }
 },
 "nbformat": 4,
 "nbformat_minor": 2
}
